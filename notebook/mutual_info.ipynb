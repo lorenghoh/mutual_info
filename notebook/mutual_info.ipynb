{
 "cells": [
  {
   "cell_type": "markdown",
   "metadata": {},
   "source": [
    "# Mutual Information Analysis\n",
    "\n",
    " From Dawe and Austin (2013), the observed mutual information for directly-calculated entrainment and detrainment rates are as follows. The dataset is based on the LES simulation of shallow cumulus clouds based on BOMEX over a small domain (6.4 km $\\times$ 6.4 km $\\times$ 3.2 km)."
   ]
  },
  {
   "cell_type": "code",
   "execution_count": 35,
   "metadata": {},
   "outputs": [],
   "source": [
    "import numpy as np\n",
    "import pandas as pd"
   ]
  },
  {
   "cell_type": "code",
   "execution_count": 43,
   "metadata": {},
   "outputs": [
    {
     "data": {
      "text/html": [
       "<div>\n",
       "<style scoped>\n",
       "    .dataframe tbody tr th:only-of-type {\n",
       "        vertical-align: middle;\n",
       "    }\n",
       "\n",
       "    .dataframe tbody tr th {\n",
       "        vertical-align: top;\n",
       "    }\n",
       "\n",
       "    .dataframe thead th {\n",
       "        text-align: right;\n",
       "    }\n",
       "</style>\n",
       "<table border=\"1\" class=\"dataframe\">\n",
       "  <thead>\n",
       "    <tr style=\"text-align: right;\">\n",
       "      <th></th>\n",
       "      <th>0</th>\n",
       "      <th>1</th>\n",
       "      <th>2</th>\n",
       "      <th>3</th>\n",
       "      <th>4</th>\n",
       "      <th>5</th>\n",
       "    </tr>\n",
       "  </thead>\n",
       "  <tbody>\n",
       "    <tr>\n",
       "      <th>X</th>\n",
       "      <td>epsilon</td>\n",
       "      <td>epsilon</td>\n",
       "      <td>epsilon</td>\n",
       "      <td>epsilon</td>\n",
       "      <td>epsilon</td>\n",
       "      <td>epsilon</td>\n",
       "    </tr>\n",
       "    <tr>\n",
       "      <th>Y</th>\n",
       "      <td>z</td>\n",
       "      <td>w</td>\n",
       "      <td>a</td>\n",
       "      <td>B</td>\n",
       "      <td>chi</td>\n",
       "      <td>lapse</td>\n",
       "    </tr>\n",
       "    <tr>\n",
       "      <th>mutual_info</th>\n",
       "      <td>0.109</td>\n",
       "      <td>0.221</td>\n",
       "      <td>0.038</td>\n",
       "      <td>0.43</td>\n",
       "      <td>0.261</td>\n",
       "      <td>0.127</td>\n",
       "    </tr>\n",
       "  </tbody>\n",
       "</table>\n",
       "</div>"
      ],
      "text/plain": [
       "                   0        1        2        3        4        5\n",
       "X            epsilon  epsilon  epsilon  epsilon  epsilon  epsilon\n",
       "Y            z        w        a        B        chi      lapse  \n",
       "mutual_info  0.109    0.221    0.038    0.43     0.261    0.127  "
      ]
     },
     "execution_count": 43,
     "metadata": {},
     "output_type": "execute_result"
    }
   ],
   "source": [
    "mi_eps = pd.DataFrame({\n",
    "    'X':['epsilon', 'epsilon', 'epsilon', 'epsilon', 'epsilon', 'epsilon'],\n",
    "    'Y':['z', 'w', 'a', 'B', 'chi', 'lapse'],\n",
    "    'mutual_info':[0.109, 0.221, 0.038, 0.430, 0.261, 0.127]},\n",
    ")\n",
    "mi_eps.T"
   ]
  },
  {
   "cell_type": "code",
   "execution_count": 49,
   "metadata": {},
   "outputs": [
    {
     "data": {
      "text/html": [
       "<div>\n",
       "<style scoped>\n",
       "    .dataframe tbody tr th:only-of-type {\n",
       "        vertical-align: middle;\n",
       "    }\n",
       "\n",
       "    .dataframe tbody tr th {\n",
       "        vertical-align: top;\n",
       "    }\n",
       "\n",
       "    .dataframe thead th {\n",
       "        text-align: right;\n",
       "    }\n",
       "</style>\n",
       "<table border=\"1\" class=\"dataframe\">\n",
       "  <thead>\n",
       "    <tr style=\"text-align: right;\">\n",
       "      <th></th>\n",
       "      <th>0</th>\n",
       "      <th>1</th>\n",
       "      <th>2</th>\n",
       "      <th>3</th>\n",
       "      <th>4</th>\n",
       "      <th>5</th>\n",
       "    </tr>\n",
       "  </thead>\n",
       "  <tbody>\n",
       "    <tr>\n",
       "      <th>X</th>\n",
       "      <td>delta</td>\n",
       "      <td>delta</td>\n",
       "      <td>delta</td>\n",
       "      <td>delta</td>\n",
       "      <td>delta</td>\n",
       "      <td>delta</td>\n",
       "    </tr>\n",
       "    <tr>\n",
       "      <th>Y</th>\n",
       "      <td>z</td>\n",
       "      <td>w</td>\n",
       "      <td>a</td>\n",
       "      <td>B</td>\n",
       "      <td>chi</td>\n",
       "      <td>lapse</td>\n",
       "    </tr>\n",
       "    <tr>\n",
       "      <th>mutual_info</th>\n",
       "      <td>0.026</td>\n",
       "      <td>0.218</td>\n",
       "      <td>0.159</td>\n",
       "      <td>0.184</td>\n",
       "      <td>0.345</td>\n",
       "      <td>0.188</td>\n",
       "    </tr>\n",
       "  </tbody>\n",
       "</table>\n",
       "</div>"
      ],
      "text/plain": [
       "                 0      1      2      3      4      5\n",
       "X            delta  delta  delta  delta  delta  delta\n",
       "Y            z      w      a      B      chi    lapse\n",
       "mutual_info  0.026  0.218  0.159  0.184  0.345  0.188"
      ]
     },
     "execution_count": 49,
     "metadata": {},
     "output_type": "execute_result"
    }
   ],
   "source": [
    "mi_del = pd.DataFrame({\n",
    "    'X':['delta', 'delta', 'delta', 'delta', 'delta', 'delta'],\n",
    "    'Y':['z', 'w', 'a', 'B', 'chi', 'lapse'],\n",
    "    'mutual_info':[0.026, 0.218, 0.159, 0.184, 0.345, 0.058]})\n",
    "mi_del"
   ]
  },
  {
   "cell_type": "markdown",
   "metadata": {},
   "source": [
    "### Shallow Convection (BOMEX+ARM)\n",
    "\n",
    " Here, I combined the dataset from BOMEX and GCSSARM runs to repeat the above calculations. The results are as follows."
   ]
  },
  {
   "cell_type": "markdown",
   "metadata": {},
   "source": [
    " For fractional entrainment $\\log_{10} \\epsilon$,"
   ]
  },
  {
   "cell_type": "code",
   "execution_count": 56,
   "metadata": {},
   "outputs": [
    {
     "data": {
      "text/html": [
       "<div>\n",
       "<style scoped>\n",
       "    .dataframe tbody tr th:only-of-type {\n",
       "        vertical-align: middle;\n",
       "    }\n",
       "\n",
       "    .dataframe tbody tr th {\n",
       "        vertical-align: top;\n",
       "    }\n",
       "\n",
       "    .dataframe thead th {\n",
       "        text-align: right;\n",
       "    }\n",
       "</style>\n",
       "<table border=\"1\" class=\"dataframe\">\n",
       "  <thead>\n",
       "    <tr style=\"text-align: right;\">\n",
       "      <th></th>\n",
       "      <th>0</th>\n",
       "      <th>1</th>\n",
       "      <th>2</th>\n",
       "      <th>3</th>\n",
       "      <th>4</th>\n",
       "      <th>5</th>\n",
       "    </tr>\n",
       "  </thead>\n",
       "  <tbody>\n",
       "    <tr>\n",
       "      <th>X</th>\n",
       "      <td>epsilon</td>\n",
       "      <td>epsilon</td>\n",
       "      <td>epsilon</td>\n",
       "      <td>epsilon</td>\n",
       "      <td>epsilon</td>\n",
       "      <td>epsilon</td>\n",
       "    </tr>\n",
       "    <tr>\n",
       "      <th>Y</th>\n",
       "      <td>z</td>\n",
       "      <td>w</td>\n",
       "      <td>a</td>\n",
       "      <td>B</td>\n",
       "      <td>chi</td>\n",
       "      <td>lapse</td>\n",
       "    </tr>\n",
       "    <tr>\n",
       "      <th>mutual_info</th>\n",
       "      <td>0.152</td>\n",
       "      <td>0.217</td>\n",
       "      <td>0.178</td>\n",
       "      <td>0.324</td>\n",
       "      <td>0.325</td>\n",
       "      <td>0.11</td>\n",
       "    </tr>\n",
       "  </tbody>\n",
       "</table>\n",
       "</div>"
      ],
      "text/plain": [
       "                   0        1        2        3        4        5\n",
       "X            epsilon  epsilon  epsilon  epsilon  epsilon  epsilon\n",
       "Y            z        w        a        B        chi      lapse  \n",
       "mutual_info  0.152    0.217    0.178    0.324    0.325    0.11   "
      ]
     },
     "execution_count": 56,
     "metadata": {},
     "output_type": "execute_result"
    }
   ],
   "source": [
    "mi_eps = pd.DataFrame({\n",
    "    'X':['epsilon', 'epsilon', 'epsilon', 'epsilon', 'epsilon', 'epsilon'],\n",
    "    'Y':['z', 'w', 'a', 'B', 'chi', 'lapse'],\n",
    "    'mutual_info':[0.152, 0.217, 0.178, 0.324, 0.325, 0.110]},\n",
    ")\n",
    "mi_eps.T"
   ]
  },
  {
   "cell_type": "markdown",
   "metadata": {},
   "source": [
    " For fractional detrainment $\\log_{10} \\delta$,"
   ]
  },
  {
   "cell_type": "code",
   "execution_count": 55,
   "metadata": {},
   "outputs": [
    {
     "data": {
      "text/html": [
       "<div>\n",
       "<style scoped>\n",
       "    .dataframe tbody tr th:only-of-type {\n",
       "        vertical-align: middle;\n",
       "    }\n",
       "\n",
       "    .dataframe tbody tr th {\n",
       "        vertical-align: top;\n",
       "    }\n",
       "\n",
       "    .dataframe thead th {\n",
       "        text-align: right;\n",
       "    }\n",
       "</style>\n",
       "<table border=\"1\" class=\"dataframe\">\n",
       "  <thead>\n",
       "    <tr style=\"text-align: right;\">\n",
       "      <th></th>\n",
       "      <th>0</th>\n",
       "      <th>1</th>\n",
       "      <th>2</th>\n",
       "      <th>3</th>\n",
       "      <th>4</th>\n",
       "      <th>5</th>\n",
       "    </tr>\n",
       "  </thead>\n",
       "  <tbody>\n",
       "    <tr>\n",
       "      <th>X</th>\n",
       "      <td>delta</td>\n",
       "      <td>delta</td>\n",
       "      <td>delta</td>\n",
       "      <td>delta</td>\n",
       "      <td>delta</td>\n",
       "      <td>delta</td>\n",
       "    </tr>\n",
       "    <tr>\n",
       "      <th>Y</th>\n",
       "      <td>z</td>\n",
       "      <td>w</td>\n",
       "      <td>a</td>\n",
       "      <td>B</td>\n",
       "      <td>chi</td>\n",
       "      <td>lapse</td>\n",
       "    </tr>\n",
       "    <tr>\n",
       "      <th>mutual_info</th>\n",
       "      <td>0.231</td>\n",
       "      <td>0.369</td>\n",
       "      <td>0.352</td>\n",
       "      <td>0.358</td>\n",
       "      <td>0.331</td>\n",
       "      <td>0.165</td>\n",
       "    </tr>\n",
       "  </tbody>\n",
       "</table>\n",
       "</div>"
      ],
      "text/plain": [
       "                 0      1      2      3      4      5\n",
       "X            delta  delta  delta  delta  delta  delta\n",
       "Y            z      w      a      B      chi    lapse\n",
       "mutual_info  0.231  0.369  0.352  0.358  0.331  0.165"
      ]
     },
     "execution_count": 55,
     "metadata": {},
     "output_type": "execute_result"
    }
   ],
   "source": [
    "mi_del = pd.DataFrame({\n",
    "    'X':['delta', 'delta', 'delta', 'delta', 'delta', 'delta'],\n",
    "    'Y':['z', 'w', 'a', 'B', 'chi', 'lapse'],\n",
    "    'mutual_info':[0.231, 0.369, 0.352, 0.358, 0.331, 0.165]}\n",
    ")\n",
    "mi_del.T"
   ]
  },
  {
   "cell_type": "markdown",
   "metadata": {},
   "source": [
    " For dilution due to entrainment $\\Omega_e$,"
   ]
  },
  {
   "cell_type": "code",
   "execution_count": 58,
   "metadata": {},
   "outputs": [
    {
     "data": {
      "text/html": [
       "<div>\n",
       "<style scoped>\n",
       "    .dataframe tbody tr th:only-of-type {\n",
       "        vertical-align: middle;\n",
       "    }\n",
       "\n",
       "    .dataframe tbody tr th {\n",
       "        vertical-align: top;\n",
       "    }\n",
       "\n",
       "    .dataframe thead th {\n",
       "        text-align: right;\n",
       "    }\n",
       "</style>\n",
       "<table border=\"1\" class=\"dataframe\">\n",
       "  <thead>\n",
       "    <tr style=\"text-align: right;\">\n",
       "      <th></th>\n",
       "      <th>0</th>\n",
       "      <th>1</th>\n",
       "      <th>2</th>\n",
       "      <th>3</th>\n",
       "      <th>4</th>\n",
       "      <th>5</th>\n",
       "    </tr>\n",
       "  </thead>\n",
       "  <tbody>\n",
       "    <tr>\n",
       "      <th>X</th>\n",
       "      <td>omega_e</td>\n",
       "      <td>omega_e</td>\n",
       "      <td>omega_e</td>\n",
       "      <td>omega_e</td>\n",
       "      <td>omega_e</td>\n",
       "      <td>omega_e</td>\n",
       "    </tr>\n",
       "    <tr>\n",
       "      <th>Y</th>\n",
       "      <td>z</td>\n",
       "      <td>w</td>\n",
       "      <td>a</td>\n",
       "      <td>B</td>\n",
       "      <td>chi</td>\n",
       "      <td>lapse</td>\n",
       "    </tr>\n",
       "    <tr>\n",
       "      <th>mutual_info</th>\n",
       "      <td>0.389</td>\n",
       "      <td>0.355</td>\n",
       "      <td>0.235</td>\n",
       "      <td>0.292</td>\n",
       "      <td>0.217</td>\n",
       "      <td>0.298</td>\n",
       "    </tr>\n",
       "  </tbody>\n",
       "</table>\n",
       "</div>"
      ],
      "text/plain": [
       "                   0        1        2        3        4        5\n",
       "X            omega_e  omega_e  omega_e  omega_e  omega_e  omega_e\n",
       "Y            z        w        a        B        chi      lapse  \n",
       "mutual_info  0.389    0.355    0.235    0.292    0.217    0.298  "
      ]
     },
     "execution_count": 58,
     "metadata": {},
     "output_type": "execute_result"
    }
   ],
   "source": [
    "mi_eps = pd.DataFrame({\n",
    "    'X':['omega_e', 'omega_e', 'omega_e', 'omega_e', 'omega_e', 'omega_e'],\n",
    "    'Y':['z', 'w', 'a', 'B', 'chi', 'lapse'],\n",
    "    'mutual_info':[0.389, 0.355, 0.235, 0.292, 0.217, 0.298]},\n",
    ")\n",
    "mi_eps.T"
   ]
  },
  {
   "cell_type": "markdown",
   "metadata": {},
   "source": [
    " and total dilution $\\Omega$,"
   ]
  },
  {
   "cell_type": "code",
   "execution_count": 59,
   "metadata": {},
   "outputs": [
    {
     "data": {
      "text/html": [
       "<div>\n",
       "<style scoped>\n",
       "    .dataframe tbody tr th:only-of-type {\n",
       "        vertical-align: middle;\n",
       "    }\n",
       "\n",
       "    .dataframe tbody tr th {\n",
       "        vertical-align: top;\n",
       "    }\n",
       "\n",
       "    .dataframe thead th {\n",
       "        text-align: right;\n",
       "    }\n",
       "</style>\n",
       "<table border=\"1\" class=\"dataframe\">\n",
       "  <thead>\n",
       "    <tr style=\"text-align: right;\">\n",
       "      <th></th>\n",
       "      <th>0</th>\n",
       "      <th>1</th>\n",
       "      <th>2</th>\n",
       "      <th>3</th>\n",
       "      <th>4</th>\n",
       "      <th>5</th>\n",
       "    </tr>\n",
       "  </thead>\n",
       "  <tbody>\n",
       "    <tr>\n",
       "      <th>X</th>\n",
       "      <td>omega</td>\n",
       "      <td>omega</td>\n",
       "      <td>omega</td>\n",
       "      <td>omega</td>\n",
       "      <td>omega</td>\n",
       "      <td>omega</td>\n",
       "    </tr>\n",
       "    <tr>\n",
       "      <th>Y</th>\n",
       "      <td>z</td>\n",
       "      <td>w</td>\n",
       "      <td>a</td>\n",
       "      <td>B</td>\n",
       "      <td>chi</td>\n",
       "      <td>lapse</td>\n",
       "    </tr>\n",
       "    <tr>\n",
       "      <th>mutual_info</th>\n",
       "      <td>0.255</td>\n",
       "      <td>0.19</td>\n",
       "      <td>0.112</td>\n",
       "      <td>0.156</td>\n",
       "      <td>0.124</td>\n",
       "      <td>0.169</td>\n",
       "    </tr>\n",
       "  </tbody>\n",
       "</table>\n",
       "</div>"
      ],
      "text/plain": [
       "                 0      1      2      3      4      5\n",
       "X            omega  omega  omega  omega  omega  omega\n",
       "Y            z      w      a      B      chi    lapse\n",
       "mutual_info  0.255  0.19   0.112  0.156  0.124  0.169"
      ]
     },
     "execution_count": 59,
     "metadata": {},
     "output_type": "execute_result"
    }
   ],
   "source": [
    "mi_eps = pd.DataFrame({\n",
    "    'X':['omega', 'omega', 'omega', 'omega', 'omega', 'omega'],\n",
    "    'Y':['z', 'w', 'a', 'B', 'chi', 'lapse'],\n",
    "    'mutual_info':[0.255, 0.190, 0.112, 0.156, 0.124, 0.169]},\n",
    ")\n",
    "mi_eps.T"
   ]
  },
  {
   "cell_type": "markdown",
   "metadata": {},
   "source": [
    " Compared to the mutual information for entrainment and detrainment rates, no single variable appears to do well here, although it is not too surprising since we are not looking at both the entrainment rate and the properties of the entrained air. For this reason, entrainment rate carries little information on dilution (~ 0.1). \n",
    " \n",
    " Also, as expected from the correlation figures, area remains a poor predictor of both entrainment and dilution."
   ]
  },
  {
   "cell_type": "markdown",
   "metadata": {},
   "source": [
    "### Deep Convection (GATE)\n",
    "\n",
    " Lastly, I've repeated the above calculations for a tropical marine deep convection case of GATE over a 90 km $\\times$ 90 km $\\times$ 25 km domain."
   ]
  },
  {
   "cell_type": "markdown",
   "metadata": {},
   "source": [
    " For fractional entrainment $\\epsilon$,"
   ]
  },
  {
   "cell_type": "code",
   "execution_count": 53,
   "metadata": {},
   "outputs": [
    {
     "data": {
      "text/html": [
       "<div>\n",
       "<style scoped>\n",
       "    .dataframe tbody tr th:only-of-type {\n",
       "        vertical-align: middle;\n",
       "    }\n",
       "\n",
       "    .dataframe tbody tr th {\n",
       "        vertical-align: top;\n",
       "    }\n",
       "\n",
       "    .dataframe thead th {\n",
       "        text-align: right;\n",
       "    }\n",
       "</style>\n",
       "<table border=\"1\" class=\"dataframe\">\n",
       "  <thead>\n",
       "    <tr style=\"text-align: right;\">\n",
       "      <th></th>\n",
       "      <th>0</th>\n",
       "      <th>1</th>\n",
       "      <th>2</th>\n",
       "      <th>3</th>\n",
       "      <th>4</th>\n",
       "      <th>5</th>\n",
       "    </tr>\n",
       "  </thead>\n",
       "  <tbody>\n",
       "    <tr>\n",
       "      <th>X</th>\n",
       "      <td>epsilon</td>\n",
       "      <td>epsilon</td>\n",
       "      <td>epsilon</td>\n",
       "      <td>epsilon</td>\n",
       "      <td>epsilon</td>\n",
       "      <td>epsilon</td>\n",
       "    </tr>\n",
       "    <tr>\n",
       "      <th>Y</th>\n",
       "      <td>z</td>\n",
       "      <td>w</td>\n",
       "      <td>a</td>\n",
       "      <td>B</td>\n",
       "      <td>chi</td>\n",
       "      <td>lapse</td>\n",
       "    </tr>\n",
       "    <tr>\n",
       "      <th>mutual_info</th>\n",
       "      <td>0.092</td>\n",
       "      <td>0.154</td>\n",
       "      <td>0.054</td>\n",
       "      <td>0.114</td>\n",
       "      <td>0.005</td>\n",
       "      <td>0.072</td>\n",
       "    </tr>\n",
       "  </tbody>\n",
       "</table>\n",
       "</div>"
      ],
      "text/plain": [
       "                   0        1        2        3        4        5\n",
       "X            epsilon  epsilon  epsilon  epsilon  epsilon  epsilon\n",
       "Y            z        w        a        B        chi      lapse  \n",
       "mutual_info  0.092    0.154    0.054    0.114    0.005    0.072  "
      ]
     },
     "execution_count": 53,
     "metadata": {},
     "output_type": "execute_result"
    }
   ],
   "source": [
    "mi_eps = pd.DataFrame({\n",
    "    'X':['epsilon', 'epsilon', 'epsilon', 'epsilon', 'epsilon', 'epsilon'],\n",
    "    'Y':['z', 'w', 'a', 'B', 'chi', 'lapse'],\n",
    "    'mutual_info':[0.092, 0.154, 0.054, 0.114, 0.005, 0.072]},\n",
    ")\n",
    "mi_eps.T"
   ]
  },
  {
   "cell_type": "markdown",
   "metadata": {},
   "source": [
    " While none of the variables are strongly dependant on $\\epsilon$, vertical velocity and buoyancy still remain the best predictor of fractional entrainment rate."
   ]
  },
  {
   "cell_type": "markdown",
   "metadata": {},
   "source": [
    " For fractional detrainment $\\delta$,"
   ]
  },
  {
   "cell_type": "code",
   "execution_count": 54,
   "metadata": {},
   "outputs": [
    {
     "data": {
      "text/html": [
       "<div>\n",
       "<style scoped>\n",
       "    .dataframe tbody tr th:only-of-type {\n",
       "        vertical-align: middle;\n",
       "    }\n",
       "\n",
       "    .dataframe tbody tr th {\n",
       "        vertical-align: top;\n",
       "    }\n",
       "\n",
       "    .dataframe thead th {\n",
       "        text-align: right;\n",
       "    }\n",
       "</style>\n",
       "<table border=\"1\" class=\"dataframe\">\n",
       "  <thead>\n",
       "    <tr style=\"text-align: right;\">\n",
       "      <th></th>\n",
       "      <th>0</th>\n",
       "      <th>1</th>\n",
       "      <th>2</th>\n",
       "      <th>3</th>\n",
       "      <th>4</th>\n",
       "      <th>5</th>\n",
       "    </tr>\n",
       "  </thead>\n",
       "  <tbody>\n",
       "    <tr>\n",
       "      <th>X</th>\n",
       "      <td>delta</td>\n",
       "      <td>delta</td>\n",
       "      <td>delta</td>\n",
       "      <td>delta</td>\n",
       "      <td>delta</td>\n",
       "      <td>delta</td>\n",
       "    </tr>\n",
       "    <tr>\n",
       "      <th>Y</th>\n",
       "      <td>z</td>\n",
       "      <td>w</td>\n",
       "      <td>a</td>\n",
       "      <td>B</td>\n",
       "      <td>chi</td>\n",
       "      <td>lapse</td>\n",
       "    </tr>\n",
       "    <tr>\n",
       "      <th>mutual_info</th>\n",
       "      <td>0.08</td>\n",
       "      <td>0.08</td>\n",
       "      <td>0.056</td>\n",
       "      <td>0.184</td>\n",
       "      <td>0.001</td>\n",
       "      <td>0.051</td>\n",
       "    </tr>\n",
       "  </tbody>\n",
       "</table>\n",
       "</div>"
      ],
      "text/plain": [
       "                 0      1      2      3      4      5\n",
       "X            delta  delta  delta  delta  delta  delta\n",
       "Y            z      w      a      B      chi    lapse\n",
       "mutual_info  0.08   0.08   0.056  0.184  0.001  0.051"
      ]
     },
     "execution_count": 54,
     "metadata": {},
     "output_type": "execute_result"
    }
   ],
   "source": [
    "mi_del = pd.DataFrame({\n",
    "    'X':['delta', 'delta', 'delta', 'delta', 'delta', 'delta'],\n",
    "    'Y':['z', 'w', 'a', 'B', 'chi', 'lapse'],\n",
    "    'mutual_info':[0.080, 0.080, 0.056, 0.184, 0.001, 0.051]}\n",
    ")\n",
    "mi_del.T"
   ]
  },
  {
   "cell_type": "markdown",
   "metadata": {},
   "source": [
    " For dilution due to entrainment $\\Omega_e$,"
   ]
  },
  {
   "cell_type": "code",
   "execution_count": 60,
   "metadata": {},
   "outputs": [
    {
     "data": {
      "text/html": [
       "<div>\n",
       "<style scoped>\n",
       "    .dataframe tbody tr th:only-of-type {\n",
       "        vertical-align: middle;\n",
       "    }\n",
       "\n",
       "    .dataframe tbody tr th {\n",
       "        vertical-align: top;\n",
       "    }\n",
       "\n",
       "    .dataframe thead th {\n",
       "        text-align: right;\n",
       "    }\n",
       "</style>\n",
       "<table border=\"1\" class=\"dataframe\">\n",
       "  <thead>\n",
       "    <tr style=\"text-align: right;\">\n",
       "      <th></th>\n",
       "      <th>0</th>\n",
       "      <th>1</th>\n",
       "      <th>2</th>\n",
       "      <th>3</th>\n",
       "      <th>4</th>\n",
       "      <th>5</th>\n",
       "    </tr>\n",
       "  </thead>\n",
       "  <tbody>\n",
       "    <tr>\n",
       "      <th>X</th>\n",
       "      <td>omega_e</td>\n",
       "      <td>omega_e</td>\n",
       "      <td>omega_e</td>\n",
       "      <td>omega_e</td>\n",
       "      <td>omega_e</td>\n",
       "      <td>omega_e</td>\n",
       "    </tr>\n",
       "    <tr>\n",
       "      <th>Y</th>\n",
       "      <td>z</td>\n",
       "      <td>w</td>\n",
       "      <td>a</td>\n",
       "      <td>B</td>\n",
       "      <td>chi</td>\n",
       "      <td>lapse</td>\n",
       "    </tr>\n",
       "    <tr>\n",
       "      <th>mutual_info</th>\n",
       "      <td>0.091</td>\n",
       "      <td>0.039</td>\n",
       "      <td>0.01</td>\n",
       "      <td>0.137</td>\n",
       "      <td>0.003</td>\n",
       "      <td>0.064</td>\n",
       "    </tr>\n",
       "  </tbody>\n",
       "</table>\n",
       "</div>"
      ],
      "text/plain": [
       "                   0        1        2        3        4        5\n",
       "X            omega_e  omega_e  omega_e  omega_e  omega_e  omega_e\n",
       "Y            z        w        a        B        chi      lapse  \n",
       "mutual_info  0.091    0.039    0.01     0.137    0.003    0.064  "
      ]
     },
     "execution_count": 60,
     "metadata": {},
     "output_type": "execute_result"
    }
   ],
   "source": [
    "mi_eps = pd.DataFrame({\n",
    "    'X':['omega_e', 'omega_e', 'omega_e', 'omega_e', 'omega_e', 'omega_e'],\n",
    "    'Y':['z', 'w', 'a', 'B', 'chi', 'lapse'],\n",
    "    'mutual_info':[0.091, 0.039, 0.010, 0.137, 0.003, 0.064]},\n",
    ")\n",
    "mi_eps.T"
   ]
  },
  {
   "cell_type": "markdown",
   "metadata": {},
   "source": [
    " and total dilution $\\Omega$,"
   ]
  },
  {
   "cell_type": "code",
   "execution_count": 61,
   "metadata": {},
   "outputs": [
    {
     "data": {
      "text/html": [
       "<div>\n",
       "<style scoped>\n",
       "    .dataframe tbody tr th:only-of-type {\n",
       "        vertical-align: middle;\n",
       "    }\n",
       "\n",
       "    .dataframe tbody tr th {\n",
       "        vertical-align: top;\n",
       "    }\n",
       "\n",
       "    .dataframe thead th {\n",
       "        text-align: right;\n",
       "    }\n",
       "</style>\n",
       "<table border=\"1\" class=\"dataframe\">\n",
       "  <thead>\n",
       "    <tr style=\"text-align: right;\">\n",
       "      <th></th>\n",
       "      <th>0</th>\n",
       "      <th>1</th>\n",
       "      <th>2</th>\n",
       "      <th>3</th>\n",
       "      <th>4</th>\n",
       "      <th>5</th>\n",
       "    </tr>\n",
       "  </thead>\n",
       "  <tbody>\n",
       "    <tr>\n",
       "      <th>X</th>\n",
       "      <td>omega</td>\n",
       "      <td>omega</td>\n",
       "      <td>omega</td>\n",
       "      <td>omega</td>\n",
       "      <td>omega</td>\n",
       "      <td>omega</td>\n",
       "    </tr>\n",
       "    <tr>\n",
       "      <th>Y</th>\n",
       "      <td>z</td>\n",
       "      <td>w</td>\n",
       "      <td>a</td>\n",
       "      <td>B</td>\n",
       "      <td>chi</td>\n",
       "      <td>lapse</td>\n",
       "    </tr>\n",
       "    <tr>\n",
       "      <th>mutual_info</th>\n",
       "      <td>0.025</td>\n",
       "      <td>0.013</td>\n",
       "      <td>0.008</td>\n",
       "      <td>0.01</td>\n",
       "      <td>0</td>\n",
       "      <td>0.014</td>\n",
       "    </tr>\n",
       "  </tbody>\n",
       "</table>\n",
       "</div>"
      ],
      "text/plain": [
       "                 0      1      2      3      4      5\n",
       "X            omega  omega  omega  omega  omega  omega\n",
       "Y            z      w      a      B      chi    lapse\n",
       "mutual_info  0.025  0.013  0.008  0.01   0      0.014"
      ]
     },
     "execution_count": 61,
     "metadata": {},
     "output_type": "execute_result"
    }
   ],
   "source": [
    "mi_eps = pd.DataFrame({\n",
    "    'X':['omega', 'omega', 'omega', 'omega', 'omega', 'omega'],\n",
    "    'Y':['z', 'w', 'a', 'B', 'chi', 'lapse'],\n",
    "    'mutual_info':[0.025, 0.013, 0.008, 0.010, 0.000, 0.014]},\n",
    ")\n",
    "mi_eps.T"
   ]
  },
  {
   "cell_type": "markdown",
   "metadata": {},
   "source": [
    " Buoyancy remains a good predictor for entrainment rate. Interestingly, vertical velocity is relativelty well correlated with entrainment, but not detrainment."
   ]
  }
 ],
 "metadata": {
  "kernelspec": {
   "display_name": "Python 3",
   "language": "python",
   "name": "python3"
  },
  "language_info": {
   "codemirror_mode": {
    "name": "ipython",
    "version": 3
   },
   "file_extension": ".py",
   "mimetype": "text/x-python",
   "name": "python",
   "nbconvert_exporter": "python",
   "pygments_lexer": "ipython3",
   "version": "3.6.6"
  }
 },
 "nbformat": 4,
 "nbformat_minor": 2
}
